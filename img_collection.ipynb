{
 "cells": [
  {
   "cell_type": "code",
   "execution_count": 1,
   "id": "9d42d0f3",
   "metadata": {},
   "outputs": [
    {
     "name": "stdout",
     "output_type": "stream",
     "text": [
      "Collecting data for class 0\n",
      "Data collection for class 0 completed.\n",
      "Collecting data for class 1\n",
      "Data collection for class 1 completed.\n",
      "Collecting data for class 2\n",
      "Data collection for class 2 completed.\n"
     ]
    }
   ],
   "source": [
    "import os\n",
    "import cv2\n",
    "import uuid  # Import uuid to generate unique filenames\n",
    "\n",
    "# Data directory path\n",
    "DATA_DIR = './data'\n",
    "\n",
    "# Create data directory if it doesn't exist\n",
    "os.makedirs(DATA_DIR, exist_ok=True)\n",
    "\n",
    "# Number of classes\n",
    "number_of_classes = 3\n",
    "\n",
    "# Number of frames per class\n",
    "dataset_size = 100\n",
    "\n",
    "# Initialize video capture (adjust the index if necessary)\n",
    "cap = cv2.VideoCapture(0)\n",
    "\n",
    "# Iterate through each class\n",
    "for class_id in range(number_of_classes):\n",
    "    # Create class directory if it doesn't exist\n",
    "    class_dir = os.path.join(DATA_DIR, str(class_id))\n",
    "    os.makedirs(class_dir, exist_ok=True)\n",
    "\n",
    "    print(f'Collecting data for class {class_id}')\n",
    "\n",
    "    # Ready prompt\n",
    "    while True:\n",
    "        ret, frame = cap.read()\n",
    "        if not ret:\n",
    "            print(\"Failed to read from camera.\")\n",
    "            break\n",
    "        \n",
    "        # Display ready prompt\n",
    "        cv2.putText(frame, 'Ready? Press \"Q\" to start!', (100, 50), cv2.FONT_HERSHEY_SIMPLEX, 1.0, (0, 255, 0), 2)\n",
    "        cv2.imshow('frame', frame)\n",
    "\n",
    "        # Wait for user input\n",
    "        key = cv2.waitKey(1)\n",
    "        if key == ord('q'):\n",
    "            break\n",
    "\n",
    "    # Start data collection\n",
    "    counter = 0\n",
    "    while counter < dataset_size:\n",
    "        ret, frame = cap.read()\n",
    "        if not ret:\n",
    "            print(\"Failed to read from camera.\")\n",
    "            break\n",
    "\n",
    "        # Display the current frame\n",
    "        cv2.imshow('frame', frame)\n",
    "        \n",
    "        # Generate a unique filename\n",
    "        filename = os.path.join(class_dir, f'{uuid.uuid4().hex}.jpg')\n",
    "        \n",
    "        # Save the current frame as an image\n",
    "        cv2.imwrite(filename, frame)\n",
    "\n",
    "        counter += 1\n",
    "\n",
    "        # Wait for a short period to control the frame rate (adjust as needed)\n",
    "        cv2.waitKey(100)\n",
    "\n",
    "    print(f'Data collection for class {class_id} completed.')\n",
    "\n",
    "# Release the video capture and destroy all windows\n",
    "cap.release()\n",
    "cv2.destroyAllWindows()\n"
   ]
  },
  {
   "cell_type": "code",
   "execution_count": null,
   "id": "2c27d638",
   "metadata": {},
   "outputs": [],
   "source": []
  }
 ],
 "metadata": {
  "kernelspec": {
   "display_name": "Python 3 (ipykernel)",
   "language": "python",
   "name": "python3"
  },
  "language_info": {
   "codemirror_mode": {
    "name": "ipython",
    "version": 3
   },
   "file_extension": ".py",
   "mimetype": "text/x-python",
   "name": "python",
   "nbconvert_exporter": "python",
   "pygments_lexer": "ipython3",
   "version": "3.11.7"
  }
 },
 "nbformat": 4,
 "nbformat_minor": 5
}
